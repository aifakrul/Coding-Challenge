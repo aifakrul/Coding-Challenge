{
  "nbformat": 4,
  "nbformat_minor": 0,
  "metadata": {
    "colab": {
      "name": "Coding Challenge.ipynb",
      "provenance": [],
      "collapsed_sections": []
    },
    "kernelspec": {
      "name": "python3",
      "display_name": "Python 3"
    },
    "language_info": {
      "name": "python"
    }
  },
  "cells": [
    {
      "cell_type": "markdown",
      "source": [
        "Author\n",
        "#MD Fakrul Islam\n",
        "#fakruldsebd@gmail.com\n",
        "#https://www.linkedin.com/in/fakrul-islam-bd/\n",
        "#https://github.com/aifakrul\n",
        "#1-641-233-2418\n",
        "#Reference\n",
        "#https://en.wikipedia.org/wiki/Needleman%E2%80%93Wunsch_algorithm\n",
        "#https://en.wikipedia.org/wiki/Smith%E2%80%93Waterman_algorithm\n",
        "#https://en.wikipedia.org/wiki/Longest_common_subsequence_problem"
      ],
      "metadata": {
        "id": "nwFkTJ-Ipo1v"
      }
    },
    {
      "cell_type": "code",
      "execution_count": 38,
      "metadata": {
        "id": "YaJl5vb6llD6"
      },
      "outputs": [],
      "source": [
        "def printMatrix(seq1, seq2, matrix):\n",
        "    sep = '\\t|\\t'\n",
        "    print(*[' ', 'j', *seq1], sep=sep)\n",
        "    rowStart = ['i', *seq2]\n",
        "    for i in range(len(matrix)):\n",
        "        print(rowStart[i], end=sep)\n",
        "        print(*matrix[i], sep=sep)"
      ]
    },
    {
      "cell_type": "code",
      "source": [
        "def printTraceback(tracebback):\n",
        "    print('Traceback:')\n",
        "    for i, sol in enumerate(tracebback):\n",
        "        print(f'\\t#{i+1}')\n",
        "        print(f'\\t\\tSequence 1: {sol[0]}')\n",
        "        print(f'\\t\\tSequence 2: {sol[1]}')"
      ],
      "metadata": {
        "id": "_oyRLeuLlxwo"
      },
      "execution_count": 39,
      "outputs": []
    },
    {
      "cell_type": "code",
      "source": [
        "def getSimilarity(seg1, seg2):\n",
        "    count = 0\n",
        "    for i in range(len(seg1)):\n",
        "        count += int(seg1[i] == seg2[i])\n",
        "    return count"
      ],
      "metadata": {
        "id": "NKlLiV7ul03-"
      },
      "execution_count": 40,
      "outputs": []
    },
    {
      "cell_type": "code",
      "source": [
        "def addToAll(array, v1, v2):\n",
        "    for item in array:\n",
        "        item[0] += v1\n",
        "        item[1] += v2\n",
        "    return array"
      ],
      "metadata": {
        "id": "GnTEVj67mJEk"
      },
      "execution_count": 41,
      "outputs": []
    },
    {
      "cell_type": "code",
      "source": [
        "def initMatrix(seq1Length, seq2Length, gapPenalty):\n",
        "    matrix = [[]]\n",
        "    for i in range(seq1Length+1):\n",
        "        matrix[0].append(i * gapPenalty)\n",
        "    for i in range(1, seq2Length+1):\n",
        "        matrix.append([i * gapPenalty] + [0 for i in range(seq1Length)])\n",
        "    return matrix"
      ],
      "metadata": {
        "id": "BbNIooErmPSv"
      },
      "execution_count": 42,
      "outputs": []
    },
    {
      "cell_type": "code",
      "source": [
        "def getTraceback(matrix, i, j, seq1, seq2):\n",
        "    solutions = []\n",
        "    if matrix[j][i] == 0:\n",
        "        solutions.append(['', ''])\n",
        "        return solutions\n",
        "\n",
        "    if seq1[i-1] == seq2[j-1]:\n",
        "        branchSolutions = getTraceback(matrix, i-1, j-1, seq1, seq2)\n",
        "        addToAll(branchSolutions, seq1[i-1], seq1[i-1])\n",
        "        solutions += branchSolutions\n",
        "    else:\n",
        "        maxValue = max(matrix[j-1][i-1], matrix[j-1][i], matrix[j][i-1])\n",
        "        if matrix[j-1][i-1] == maxValue:\n",
        "            branchSolutions = getTraceback(matrix, i-1, j-1, seq1, seq2)\n",
        "            addToAll(branchSolutions, seq1[i-1], seq2[j-1])\n",
        "            solutions += branchSolutions\n",
        "        if matrix[j][i-1] == maxValue:\n",
        "            branchSolutions = getTraceback(matrix, i-1, j, seq1, seq2)\n",
        "            addToAll(branchSolutions, seq1[i-1], '_')\n",
        "            solutions += branchSolutions\n",
        "        if matrix[j-1][i] == maxValue:\n",
        "            branchSolutions = getTraceback(matrix, i, j-1, seq1, seq2)\n",
        "            addToAll(branchSolutions, '_', seq2[j-1])\n",
        "            solutions += branchSolutions\n",
        "\n",
        "    return solutions"
      ],
      "metadata": {
        "id": "MqPoGwlPmKP3"
      },
      "execution_count": 43,
      "outputs": []
    },
    {
      "cell_type": "code",
      "source": [
        "def lcs(X , Y):\n",
        "\t# find the length of the strings\n",
        "\tm = len(X)\n",
        "\tn = len(Y)\n",
        "\n",
        "\t# declaring the array for storing the dp values\n",
        "\tL = [[None]*(n+1) for i in range(m+1)]\n",
        "\n",
        "\tfor i in range(m+1):\n",
        "\t\tfor j in range(n+1):\n",
        "\t\t\tif i == 0 or j == 0 :\n",
        "\t\t\t\tL[i][j] = 0\n",
        "\t\t\telif X[i-1] == Y[j-1]:\n",
        "\t\t\t\tL[i][j] = L[i-1][j-1]+1\n",
        "\t\t\telse:\n",
        "\t\t\t\tL[i][j] = max(L[i-1][j] , L[i][j-1])\n",
        "\n",
        "\t# L[m][n] contains the length of LCS of X[0..n-1] & Y[0..m-1]\n",
        "\treturn L[m][n]\n",
        "#end of function lcs"
      ],
      "metadata": {
        "id": "yF7tTaXnozl3"
      },
      "execution_count": 44,
      "outputs": []
    },
    {
      "cell_type": "code",
      "source": [
        "def DotMatrixWindowScoring(windowSize, step, threshold, seq1, seq2):\n",
        "    output = [[' '] * len(seq1) for _ in range(len(seq2))]\n",
        "    for j in range(0, len(seq2) - windowSize+1, step):\n",
        "        for i in range(0, len(seq1) - windowSize+1, step):\n",
        "            if getSimilarity(seq1[i: i+windowSize], seq2[j: j+windowSize]) >= threshold:\n",
        "                output[j + (windowSize//2)][i + (windowSize//2)] = 'x'\n",
        "    print(*[' ', *seq1], sep='|')\n",
        "    for i in range(len(output)):\n",
        "        print(seq2[i] + '|', end='')\n",
        "        print(*output[i], sep='|')"
      ],
      "metadata": {
        "id": "0wiBcXOTl5BR"
      },
      "execution_count": 45,
      "outputs": []
    },
    {
      "cell_type": "code",
      "source": [
        "def needlemanWunch(gapPenalty, match, misMatch, seq1, seq2):\n",
        "    matrix = initMatrix(len(seq1), len(seq2), gapPenalty)\n",
        "\n",
        "    for j in range(1, len(seq1)+1):\n",
        "        for i in range(1, len(seq2)+1):\n",
        "            matrix[i][j] = max(matrix[i-1][j-1] + (match if seq1[j-1] == seq2[i-1] else misMatch),\n",
        "                               matrix[i-1][j]+gapPenalty, matrix[i][j-1]+gapPenalty)\n",
        "\n",
        "    printMatrix(seq1, seq2, matrix)\n",
        "    print()\n",
        "    printTraceback(getTraceback(\n",
        "        matrix, len(seq1), len(seq2), seq1, seq2))"
      ],
      "metadata": {
        "id": "hkUnXWD2mWBo"
      },
      "execution_count": 46,
      "outputs": []
    },
    {
      "cell_type": "code",
      "source": [
        "def smithwaterman(gapPenalty, match, misMatch, seq1, seq2):\n",
        "    matrix = [[0] * (len(seq1)+1) for _ in range(len(seq2)+1)]\n",
        "\n",
        "    maxValue, maxI, MaxJ = 0, 0, 0\n",
        "    for j in range(1, len(seq1)+1):\n",
        "        for i in range(1, len(seq2)+1):\n",
        "            currentValue = max(matrix[i-1][j-1] + (match if seq1[j-1] == seq2[i-1] else misMatch),\n",
        "                               matrix[i-1][j] +\n",
        "                               gapPenalty, matrix[i][j-1]+gapPenalty,\n",
        "                               0)\n",
        "            if currentValue >= maxValue:\n",
        "                maxValue = currentValue\n",
        "                maxI, MaxJ = j, i\n",
        "            matrix[i][j] = currentValue\n",
        "\n",
        "    printMatrix(seq1, seq2, matrix)\n",
        "    print()\n",
        "    printTraceback(getTraceback(matrix, maxI, MaxJ, seq1, seq2))"
      ],
      "metadata": {
        "id": "SjLar6HXnAzz"
      },
      "execution_count": 47,
      "outputs": []
    },
    {
      "cell_type": "code",
      "source": [
        "if __name__ == \"__main__\":\n",
        "    DotMatrixWindowScoring(windowSize=9,\n",
        "                           step=3,\n",
        "                           threshold=4,\n",
        "                           seq1=\"ACCTTGTCCTCTTTGCCC\",\n",
        "                           seq2=\"ACGTTGACCTGTAACCTC\"\n",
        "                           )"
      ],
      "metadata": {
        "colab": {
          "base_uri": "https://localhost:8080/"
        },
        "id": "5h4BsLSnl8ev",
        "outputId": "a384e36c-99fc-4031-8170-090ec69b58b9"
      },
      "execution_count": 48,
      "outputs": [
        {
          "output_type": "stream",
          "name": "stdout",
          "text": [
            " |A|C|C|T|T|G|T|C|C|T|C|T|T|T|G|C|C|C\n",
            "A| | | | | | | | | | | | | | | | | | \n",
            "C| | | | | | | | | | | | | | | | | | \n",
            "G| | | | | | | | | | | | | | | | | | \n",
            "T| | | | | | | | | | | | | | | | | | \n",
            "T| | | | |x| | | | | | | | |x| | | | \n",
            "G| | | | | | | | | | | | | | | | | | \n",
            "A| | | | | | | | | | | | | | | | | | \n",
            "C| | | | | | | |x| | | | | | | | | | \n",
            "C| | | | | | | | | | | | | | | | | | \n",
            "T| | | | | | | | | | | | | | | | | | \n",
            "G| | | | |x| | | | | |x| | | | | | | \n",
            "T| | | | | | | | | | | | | | | | | | \n",
            "A| | | | | | | | | | | | | | | | | | \n",
            "A| | | | | | | | | | | | | |x| | | | \n",
            "C| | | | | | | | | | | | | | | | | | \n",
            "C| | | | | | | | | | | | | | | | | | \n",
            "T| | | | | | | | | | | | | | | | | | \n",
            "C| | | | | | | | | | | | | | | | | | \n"
          ]
        }
      ]
    },
    {
      "cell_type": "code",
      "source": [
        "needlemanWunch(\n",
        "        gapPenalty=-1,\n",
        "        match=2,\n",
        "        misMatch=-1,\n",
        "        seq1=\"ACGCTG\",\n",
        "        seq2=\"CATGT\"\n",
        "    )"
      ],
      "metadata": {
        "colab": {
          "base_uri": "https://localhost:8080/"
        },
        "id": "65x0kPwKmati",
        "outputId": "f316fe42-b729-47ed-e0e5-e74ac24221ac"
      },
      "execution_count": 49,
      "outputs": [
        {
          "output_type": "stream",
          "name": "stdout",
          "text": [
            " \t|\tj\t|\tA\t|\tC\t|\tG\t|\tC\t|\tT\t|\tG\n",
            "i\t|\t0\t|\t-1\t|\t-2\t|\t-3\t|\t-4\t|\t-5\t|\t-6\n",
            "C\t|\t-1\t|\t-1\t|\t1\t|\t0\t|\t-1\t|\t-2\t|\t-3\n",
            "A\t|\t-2\t|\t1\t|\t0\t|\t0\t|\t-1\t|\t-2\t|\t-3\n",
            "T\t|\t-3\t|\t0\t|\t0\t|\t-1\t|\t-1\t|\t1\t|\t0\n",
            "G\t|\t-4\t|\t-1\t|\t-1\t|\t2\t|\t1\t|\t0\t|\t3\n",
            "T\t|\t-5\t|\t-2\t|\t-2\t|\t1\t|\t1\t|\t3\t|\t2\n",
            "\n",
            "Traceback:\n",
            "\t#1\n",
            "\t\tSequence 1: GCTG\n",
            "\t\tSequence 2: G_T_\n",
            "\t#2\n",
            "\t\tSequence 1: CTG_\n",
            "\t\tSequence 2: ATGT\n",
            "\t#3\n",
            "\t\tSequence 1: CTG_\n",
            "\t\tSequence 2: _TGT\n"
          ]
        }
      ]
    },
    {
      "cell_type": "code",
      "source": [
        "smithwaterman(\n",
        "        gapPenalty=-6,\n",
        "        match=5,\n",
        "        misMatch=-2,\n",
        "        seq1=\"TGCTCGTA\",\n",
        "        seq2=\"TTCATA\"\n",
        "    )"
      ],
      "metadata": {
        "colab": {
          "base_uri": "https://localhost:8080/"
        },
        "id": "oIHTMsnJnKeO",
        "outputId": "aed36234-241a-49fb-9990-08424be4cf51"
      },
      "execution_count": 50,
      "outputs": [
        {
          "output_type": "stream",
          "name": "stdout",
          "text": [
            " \t|\tj\t|\tT\t|\tG\t|\tC\t|\tT\t|\tC\t|\tG\t|\tT\t|\tA\n",
            "i\t|\t0\t|\t0\t|\t0\t|\t0\t|\t0\t|\t0\t|\t0\t|\t0\t|\t0\n",
            "T\t|\t0\t|\t5\t|\t0\t|\t0\t|\t5\t|\t0\t|\t0\t|\t5\t|\t0\n",
            "T\t|\t0\t|\t5\t|\t3\t|\t0\t|\t5\t|\t3\t|\t0\t|\t5\t|\t3\n",
            "C\t|\t0\t|\t0\t|\t3\t|\t8\t|\t2\t|\t10\t|\t4\t|\t0\t|\t3\n",
            "A\t|\t0\t|\t0\t|\t0\t|\t2\t|\t6\t|\t4\t|\t8\t|\t2\t|\t5\n",
            "T\t|\t0\t|\t5\t|\t0\t|\t0\t|\t7\t|\t4\t|\t2\t|\t13\t|\t7\n",
            "A\t|\t0\t|\t0\t|\t3\t|\t0\t|\t1\t|\t5\t|\t2\t|\t7\t|\t18\n",
            "\n",
            "Traceback:\n",
            "\t#1\n",
            "\t\tSequence 1: TCGTA\n",
            "\t\tSequence 2: TCATA\n"
          ]
        }
      ]
    },
    {
      "cell_type": "code",
      "source": [
        "# Driver program to test the above function\n",
        "X = \"AGGTAB\"\n",
        "Y = \"GXTXAYB\"\n",
        "print (\"Length of LCS is \", lcs(X, Y) )"
      ],
      "metadata": {
        "colab": {
          "base_uri": "https://localhost:8080/"
        },
        "id": "ET4PlWFzpN_f",
        "outputId": "f64241ae-cd23-41db-be94-3d8f0cb22167"
      },
      "execution_count": 51,
      "outputs": [
        {
          "output_type": "stream",
          "name": "stdout",
          "text": [
            "Length of LCS is  4\n"
          ]
        }
      ]
    }
  ]
}